{
 "cells": [
  {
   "cell_type": "code",
   "execution_count": 59,
   "id": "a4ae0992-7c32-48d2-bd41-e8ca50837399",
   "metadata": {},
   "outputs": [],
   "source": [
    "from selenium import webdriver\n",
    "from selenium.webdriver.common.by import By\n",
    "from selenium.webdriver.common.keys import Keys\n",
    "import random\n",
    "import time"
   ]
  },
  {
   "cell_type": "code",
   "execution_count": 31,
   "id": "1113e0e3-42cd-425b-aa48-c946aac4565e",
   "metadata": {},
   "outputs": [],
   "source": [
    "driver = webdriver.Chrome()"
   ]
  },
  {
   "cell_type": "code",
   "execution_count": 16,
   "id": "9df5432a-b10e-4866-9e91-9e2225695091",
   "metadata": {},
   "outputs": [],
   "source": [
    "driver.get(\"https://www.google.com\")"
   ]
  },
  {
   "cell_type": "code",
   "execution_count": 17,
   "id": "574278f9-dcaf-4437-a573-1b962422d12f",
   "metadata": {},
   "outputs": [
    {
     "name": "stdout",
     "output_type": "stream",
     "text": [
      "Google\n"
     ]
    }
   ],
   "source": [
    "print(driver.title)"
   ]
  },
  {
   "cell_type": "code",
   "execution_count": 32,
   "id": "f90b94ff-dd2c-4e30-9a8a-aad4892716d0",
   "metadata": {},
   "outputs": [],
   "source": [
    "driver.get(\"https://www.ranker.com/crowdranked-list/the-greatest-rappers-of-all-time\")"
   ]
  },
  {
   "cell_type": "code",
   "execution_count": 40,
   "id": "3d774b68-67ce-4f53-b0da-d86a7ec046e8",
   "metadata": {},
   "outputs": [],
   "source": [
    "names = driver.find_elements(By.CLASS_NAME, \"NodeName_nameWrapper__zuF49\")"
   ]
  },
  {
   "cell_type": "code",
   "execution_count": 46,
   "id": "df638da1-75a8-4900-9eef-4f73f940e510",
   "metadata": {},
   "outputs": [
    {
     "name": "stdout",
     "output_type": "stream",
     "text": [
      "The Notorious B.I.G.\n",
      "Kendrick Lamar\n",
      "Eminem\n",
      "Tupac\n",
      "Nas\n",
      "Dr. Dre\n"
     ]
    }
   ],
   "source": [
    "for name in names:\n",
    "    print(name.text)"
   ]
  },
  {
   "cell_type": "code",
   "execution_count": 60,
   "id": "93c53b7d-8517-41e9-bd23-564b7243d60c",
   "metadata": {},
   "outputs": [],
   "source": [
    "body = driver.find_element(By.TAG_NAME,\"body\")\n",
    "\n",
    "no_of_pagedowns = 50\n",
    "sleep_time = random.uniform(0.2, 2)\n",
    "\n",
    "while no_of_pagedowns:\n",
    "    body.send_keys(Keys.PAGE_DOWN)\n",
    "    time.sleep(0.2)\n",
    "    no_of_pagedowns-=1"
   ]
  },
  {
   "cell_type": "code",
   "execution_count": 64,
   "id": "1a43f098-02f4-4e82-8808-855074bd9c8f",
   "metadata": {},
   "outputs": [],
   "source": [
    "web_items = driver.find_elements(By.CLASS_NAME, \"NodeName_nameWrapper__zuF49\")"
   ]
  },
  {
   "cell_type": "code",
   "execution_count": null,
   "id": "07a0ca46-8cfd-4c02-b11b-9a363065b37c",
   "metadata": {},
   "outputs": [],
   "source": []
  },
  {
   "cell_type": "code",
   "execution_count": 66,
   "id": "4c5c9a6a-002f-4e25-9412-ccb51b33b368",
   "metadata": {},
   "outputs": [],
   "source": [
    "names = []\n",
    "for item in web_items:\n",
    "    names.append(item.text)"
   ]
  },
  {
   "cell_type": "code",
   "execution_count": 71,
   "id": "c7145641-3c52-46fb-aa56-03216052cbc1",
   "metadata": {},
   "outputs": [],
   "source": [
    "with open(\"rapper_names.txt\", \"w\") as f:\n",
    "    for name in names:\n",
    "        f.write(f\"{name}\\n\")"
   ]
  },
  {
   "cell_type": "code",
   "execution_count": 70,
   "id": "302a9abb-5738-4884-a5bc-6f9a7733ef26",
   "metadata": {},
   "outputs": [],
   "source": [
    "driver.quit()"
   ]
  },
  {
   "cell_type": "code",
   "execution_count": 72,
   "id": "34c2b6e7-b54d-4f83-b6ba-ce1729284900",
   "metadata": {},
   "outputs": [
    {
     "data": {
      "text/plain": [
       "150"
      ]
     },
     "execution_count": 72,
     "metadata": {},
     "output_type": "execute_result"
    }
   ],
   "source": [
    "len(names)"
   ]
  },
  {
   "cell_type": "code",
   "execution_count": 76,
   "id": "071645c8-794d-4d27-9b80-2b511a708fb4",
   "metadata": {},
   "outputs": [],
   "source": [
    "from lyricsgenius import Genius"
   ]
  },
  {
   "cell_type": "code",
   "execution_count": 77,
   "id": "ffffbc49-ed60-46a3-af7e-af5054496c70",
   "metadata": {},
   "outputs": [],
   "source": [
    "genius_token = 'FY4kyOOhrhrXXmT5lKIn9E10CLMKl5PJkAeWiDFJGcL2mW2PKQPSL8T_KX77orv_'"
   ]
  },
  {
   "cell_type": "code",
   "execution_count": 79,
   "id": "d6a3982d-ed2a-42a5-a8be-20b2923b07f9",
   "metadata": {},
   "outputs": [],
   "source": [
    "genius = Genius(genius_token,  timeout=99, sleep_time=0.5)"
   ]
  },
  {
   "cell_type": "code",
   "execution_count": null,
   "id": "159bee27-7250-4282-ab3f-e8698f806d32",
   "metadata": {},
   "outputs": [],
   "source": [
    "artist_001 = genius.search_artist('Eminem')"
   ]
  },
  {
   "cell_type": "code",
   "execution_count": 210,
   "id": "17f0453d-814d-4047-9778-0b42cb6630ed",
   "metadata": {},
   "outputs": [
    {
     "name": "stdout",
     "output_type": "stream",
     "text": [
      "Searching for songs by Eminem...\n",
      "\n",
      "Song 1: \"Rap God\"\n",
      "Song 2: \"Lose Yourself\"\n",
      "Song 3: \"Without Me\"\n",
      "Song 4: \"Mockingbird\"\n",
      "\n",
      "Reached user-specified song limit (4).\n",
      "Done. Found 4 songs.\n"
     ]
    }
   ],
   "source": [
    "artist = genius.search_artist(\"Eminem\", max_songs=4)"
   ]
  },
  {
   "cell_type": "code",
   "execution_count": 215,
   "id": "0a924736-f9f1-4748-af0c-bea78211249c",
   "metadata": {},
   "outputs": [],
   "source": [
    "artist_json = artist.to_dict()"
   ]
  },
  {
   "cell_type": "code",
   "execution_count": 97,
   "id": "bdb31665-2dd8-43a5-962c-f1162ccbc78b",
   "metadata": {},
   "outputs": [
    {
     "name": "stdout",
     "output_type": "stream",
     "text": [
      "Wrote Lyrics_Eminem.json.\n"
     ]
    }
   ],
   "source": [
    "artist.save_lyrics()"
   ]
  },
  {
   "cell_type": "code",
   "execution_count": 107,
   "id": "ca14f80b-8ff8-4e32-b2a6-e3562761e114",
   "metadata": {},
   "outputs": [],
   "source": [
    "artist_dict = artist.to_dict()"
   ]
  },
  {
   "cell_type": "code",
   "execution_count": 116,
   "id": "b4d76180-66ae-4a0f-8672-d83b5aeee347",
   "metadata": {},
   "outputs": [
    {
     "data": {
      "text/plain": [
       "dict_keys(['alternate_names', 'api_path', 'description', 'facebook_name', 'header_image_url', 'id', 'image_url', 'instagram_name', 'is_meme_verified', 'is_verified', 'name', 'translation_artist', 'twitter_name', 'url', 'current_user_metadata', 'followers_count', 'iq', 'description_annotation', 'user', 'songs'])"
      ]
     },
     "execution_count": 116,
     "metadata": {},
     "output_type": "execute_result"
    }
   ],
   "source": [
    "artist_dict.keys()"
   ]
  },
  {
   "cell_type": "code",
   "execution_count": 176,
   "id": "50bdad62-aa3f-454e-ac60-c024288291ac",
   "metadata": {},
   "outputs": [
    {
     "data": {
      "text/plain": [
       "'Eminem'"
      ]
     },
     "execution_count": 176,
     "metadata": {},
     "output_type": "execute_result"
    }
   ],
   "source": [
    "artist_dict['name']"
   ]
  },
  {
   "cell_type": "code",
   "execution_count": 127,
   "id": "11cf7d04-7211-4c4e-a8c7-0494fb5f0578",
   "metadata": {},
   "outputs": [
    {
     "data": {
      "text/plain": [
       "dict_keys(['_type', 'annotator_id', 'annotator_login', 'api_path', 'classification', 'fragment', 'id', 'is_description', 'path', 'range', 'song_id', 'url', 'verified_annotator_ids', 'annotatable', 'annotations'])"
      ]
     },
     "execution_count": 127,
     "metadata": {},
     "output_type": "execute_result"
    }
   ],
   "source": [
    "artist_dict['description_annotation'].keys()"
   ]
  },
  {
   "cell_type": "code",
   "execution_count": null,
   "id": "499f3351-075e-458f-8d0f-9a9d2ccda3b7",
   "metadata": {},
   "outputs": [],
   "source": [
    "artist_dict['description_annotation']"
   ]
  },
  {
   "cell_type": "code",
   "execution_count": 138,
   "id": "4224acbd-ad7c-4f3b-b222-38e812bb7844",
   "metadata": {},
   "outputs": [
    {
     "data": {
      "text/plain": [
       "{'plain': 'Marshall Bruce Mathers III (born October 17, 1972)—otherwise known as Eminem—is a legendary hip-hop icon who started as an underground battle rapper in Detroit, Michigan. He developed a career full of controversy, wild swings, and some of the most noteworthy bars in the history of the genre.\\n\\nEminem has broken countless barriers, shifting and impacting the culture in several ways. In June 2017, “Stan” was added to the Oxford Dictionary, and in 2019, to the Merriam-Webster dictionary. He was the first rapper to win the Grammy Award for Best Rap Album for three consecutive albums. “Rap God” set the Guinness World Record for most words in a song. He was also the first rapper to win an Oscar. His albums The Marshall Mathers LP and The Eminem Show became certified Diamond by the RIAA in 2011, making him one of the few artists to have more than one Diamond album. This has helped him become the highest-selling hip-hop artist of all time. In January 2020, with his 11th studio album Music to Be Murdered By debuting at #1 on the Billboard 200, Eminem became the first artist in history to have 10 consecutive #1 debuts.\\n\\nMarshall’s affinity for recording music began as early as 1988 when at 16-years old he joined forces with DJ Butter Fingers to form the group New Jacks. Their tracks together showcased Marshall’s (known then as MC Double M) quick-paced storytelling over hip-hop samples cut by DJ Butter.\\n\\nOnly a year later, Em and Butter disbanded New Jacks to form Bassmint Productions, a larger group which included the likes of rapper Chaos Kid as well as producer and brother of Butter, Manix. Deshaun “Proof” Holtman (known then as Maximum) joined in 1990 upon meeting the group at Centerline high school in Detroit.\\n\\nBassmint then evolved to Soul Intent recording their EP Still In The Bassmint as well as pressing 300 cassette-singles of “F#@!in\\' Backstabber” and “Biterphobia” in 1995, soon after signing to the Bass Brothers label Web Entertainment.\\n\\nEm went on to record and release his first solo EP in November of 1996 aged 24, titled Infinite. Considered a commercial flop, a total of 500 vinyls were pressed.\\n\\nA year later is when Eminem created the infamous Slim Shady persona, teaming up with the Bass Brothers again to release The Slim Shady EP. Still, Eminem was struggling to make a living, prompting him to attend the Rap Olympics in December of 1997. Losing out to rapper Otherwize, the defeated Eminem passed out a tape to A&R’s Evan “Kidd” Boggart and Dean Geistlinger.\\n\\nThe tape consisted of 4 of the best cuts from The SSEP, compiled by Mark Bass and Eminem himself. It fell into the hands of Jimmy Iovine, head of Interscope Records. Only a few months later, in February of 1998, legendary producer Dr. Dre got in contact with Mark Bass, inviting the crew to his studio the next weekend.\\n\\nProduced and co-signed by Dr. Dre, Em went on an unprecedented run of success, releasing three well-reviewed multi-platinum albums:\\n\\nOnly taking three months, The Slim Shady LP was a revised and polished version of the EP, and the first project to be put out with Dre, dropped in Feb 1999. The lead single “My Name Is” helped catapult his career into the limelight.\\n\\nFrom 1999-2000, Em had brief involvements with the New Jersey collective Outsidaz, who were closely linked to D12.\\n\\nThe Marshall Mathers LP, released in May 2000, incorporates more violence than ever before with the addition of bigger features such as Snoop Dogg and Dido.\\n\\nHis 4th studio album released in May of 2002, titled The Eminem Show, features some of his largest songs to date including “‘Till I Collapse” and “Without Me”.\\n\\nEminem’s success reached the big screens when he starred in the 2002 film 8 Mile. Accompanied with a soundtrack executively produced by himself, the movie closely followed Eminem’s path to glory.\\n\\nHowever, things began to come crashing down in 2004, as his fifth studio album Encore was leaked online, forcing him to release days earlier than expected with rushed additions. The critique received coupled with his growing drug addiction lead Eminem to take a a 4 year hiatus, during which his best friend Proof was fatally shot.\\n\\nRelapse in May 2009 saw the return of the Slim Shady persona. This aptly named project received mixed reviews due to the variety of unfamiliar accents throughout, yet still reached multi-platinum sales.\\n\\nIn 2010, Eminem had planned to release Relapse 2, but opted for Recovery, a more introspective sound which led Em to switch his style up from his previously shock-oriented lyrics to more emotional subject matters. This was a well-received and Grammy-award-winning album, and he employed a very similar approach to 2013’s The Marshall Mathers LP 2, the well-received sequel to Em’s magnum opus.\\n\\nEminem invested himself farther than ever into this new emotional style with 2017’s  Revival, which included lyrics about his place in hip-hop, as well as modern issues including President Donald Trump. Despite the serious direction, many were turned off to the album due to its heavy Rock-sampling, with many considering it one of, if not his weakest project.\\n\\nFollowing the controversy surrounding Revival and criticism of his modern style, Eminem surprise-released  Kamikaze on August 31, 2018, responding to critics of Revival and his career overall. The album was much more well-received than his previous effort and went on to be the highest-selling rap album of 2018.\\n\\nOnce again, by surprise, Eminem released Music to Be Murdered By on January 17, 2020—Eminem’s first full-length project for the new decade. The album, similar to 2018’s Kamikaze, includes fast-paced rapping and heavy rhyming. The album’s cover is a reference to Sir Alfred Hitchcock, and his 1958 record of the same name, Music to Be Murdered By. In December 2020, Em released Music to Be Murdered By: Side B. This deluxe edition includes 16 new tracks that were not on the original tracklist.\\n\\nOn the 5th of August 2022 Eminem released Curtain Call 2 which is a second greatest hits compilation album including hits from Relapse to Music To Be Murdered By.\\n\\nOn the 31st of May 2024, Eminem released a previously teased single ‘\\'Houdini’\\' and with it announced the release of his new album The Death of Slim Shady (Coup de Grâce) for summer 2024. The album was then released on the 12th of July 2024.\\n\\nEm is one half of Bad Meets Evil with Royce Da 5\\'9\", and was a part of D12 with Mr. Porter, Kuniva, Swifty McVay, and Bizarre, and formerly with Proof, Eye-Kyu, Bugz & Fuzz Scoota.\\n\\nAs of February 8, 2018, Eminem’s “Lose Yourself” is officially certified diamond in the United States, meaning the song has sold over 10 million copies. It’s Eminem’s third diamond single after “Not Afraid” and “Love the Way You Lie.\" Eminem is now the first rapper and only the second artist to ever achieve this accolade.\\n\\nIn addition to 8 Mile, Eminem co-produced the July 2015 film Southpaw with his track “Phenomenal” as well as Bodied in November 2018 with the unreleased track “Freak.”'}"
      ]
     },
     "execution_count": 138,
     "metadata": {},
     "output_type": "execute_result"
    }
   ],
   "source": [
    "artist_dict['description_annotation']['annotations'][0]['body']"
   ]
  },
  {
   "cell_type": "code",
   "execution_count": 114,
   "id": "d42cb9be-a842-4a4a-9751-2e0683d4525d",
   "metadata": {},
   "outputs": [
    {
     "data": {
      "text/plain": [
       "dict_keys(['annotation_count', 'api_path', 'artist_names', 'full_title', 'header_image_thumbnail_url', 'header_image_url', 'id', 'lyrics_owner_id', 'lyrics_state', 'path', 'primary_artist_names', 'pyongs_count', 'relationships_index_url', 'release_date_components', 'release_date_for_display', 'release_date_with_abbreviated_month_for_display', 'song_art_image_thumbnail_url', 'song_art_image_url', 'stats', 'title', 'title_with_featured', 'url', 'featured_artists', 'primary_artist', 'primary_artists', 'apple_music_id', 'apple_music_player_url', 'description', 'embed_content', 'featured_video', 'language', 'recording_location', 'release_date', 'current_user_metadata', 'song_art_primary_color', 'song_art_secondary_color', 'song_art_text_color', 'album', 'custom_performances', 'description_annotation', 'lyrics_marked_complete_by', 'lyrics_marked_staff_approved_by', 'media', 'producer_artists', 'song_relationships', 'translation_songs', 'verified_annotations_by', 'verified_contributors', 'verified_lyrics_by', 'writer_artists', 'artist', 'lyrics'])"
      ]
     },
     "execution_count": 114,
     "metadata": {},
     "output_type": "execute_result"
    }
   ],
   "source": [
    "artist_dict['songs'][0].keys()"
   ]
  },
  {
   "cell_type": "code",
   "execution_count": 140,
   "id": "4e9087f9-c853-4c66-b7f1-e8cbecf98f83",
   "metadata": {},
   "outputs": [
    {
     "data": {
      "text/plain": [
       "{'year': 2013, 'month': 10, 'day': 14}"
      ]
     },
     "execution_count": 140,
     "metadata": {},
     "output_type": "execute_result"
    }
   ],
   "source": [
    "artist_dict['songs'][0]['release_date_components']"
   ]
  },
  {
   "cell_type": "code",
   "execution_count": 141,
   "id": "186b0704-75d7-4532-9f73-6c217fb73761",
   "metadata": {},
   "outputs": [
    {
     "data": {
      "text/plain": [
       "2013"
      ]
     },
     "execution_count": 141,
     "metadata": {},
     "output_type": "execute_result"
    }
   ],
   "source": [
    "artist_dict['songs'][0]['release_date_components']['year']"
   ]
  },
  {
   "cell_type": "code",
   "execution_count": 155,
   "id": "8a43bcc5-a098-45c5-9d95-36294a5636c9",
   "metadata": {},
   "outputs": [
    {
     "data": {
      "text/plain": [
       "'Rap God by\\xa0Eminem'"
      ]
     },
     "execution_count": 155,
     "metadata": {},
     "output_type": "execute_result"
    }
   ],
   "source": [
    "artist_dict['songs'][0]['full_title']"
   ]
  },
  {
   "cell_type": "code",
   "execution_count": 115,
   "id": "0ace748b-dbe1-4ad9-831c-841fbc9dd59e",
   "metadata": {},
   "outputs": [
    {
     "data": {
      "text/plain": [
       "'1996 ContributorsTranslationsРусский (Russian)PortuguêsItalianoहिन्दी (Hindi)DeutschFrançaisEspañolCymraegไทย (Thai)PolskiTürkçeRap God Lyrics“Rap God” is Eminem’s braggadocious ode to himself and his career. Over its six-minute run-time, he references comic books, throws back to his old songs, and raps crazily fast.\\n\\nIn a Q&A with Rolling Stone… Read More\\xa0[Intro]\\n\"Look, I was gonna go easy on you not to hurt your feelings\"\\n\"But I\\'m only going to get this one chance\" (Six minutes—, six minutes—)\\n\"Something\\'s wrong, I can feel it\" (Six minutes, Slim Shady, you\\'re on!)\\n\"Just a feeling I\\'ve got, like something\\'s about to happen, but I don\\'t know what.\\xa0\\nIf that means what I think it means, we\\'re in trouble, big trouble;\\xa0\\nAnd if he is as bananas as you say, I\\'m not taking any chances\"\\n\"You are just what the doc ordered\"\\n\\n[Chorus]\\nI\\'m beginnin\\' to feel like a Rap God, Rap God\\nAll my people from the front to the back nod, back nod\\nNow, who thinks their arms are long enough to slap box, slap box?\\nThey said I rap like a robot, so call me Rap-bot\\n[Verse 1]\\nBut for me to rap like a computer it must be in my genes\\nI got a laptop in my back pocket\\nMy pen\\'ll go off when I half-cock it\\nGot a fat knot from that rap profit\\nMade a livin\\' and a killin\\' off it\\nEver since Bill Clinton was still in office\\nWith Monica Lewinsky feelin\\' on his nutsack\\nI\\'m an MC still as honest\\nBut as rude and as indecent as all hell\\nSyllables, skill-a-holic (Kill \\'em all with)\\nThis flippity dippity-hippity hip-hop\\nYou don\\'t really wanna get into a pissin\\' match\\nWith this rappity brat, packin\\' a MAC in the back of the Ac\\'\\nBackpack rap crap, yap-yap, yackety-yack\\nAnd at the exact same time, I attempt these lyrical acrobat stunts while I\\'m practicin\\' that\\nI\\'ll still be able to break a motherfuckin\\' table\\nOver the back of a couple of faggots and crack it in half\\nOnly realized it was ironic, I was signed to Aftermath after the fact\\nHow could I not blow? All I do is drop F-bombs\\nFeel my wrath of attack\\nRappers are havin\\' a rough time period, here\\'s a maxi pad\\nIt\\'s actually disastrously bad for the wack\\nWhile I\\'m masterfully constructing this masterpièce\\n\\n\\n[Chorus]\\n\\'Cause I\\'m beginnin\\' to feel like a Rap God, Rap God\\nAll my people from the front to the back nod, back nod\\nNow, who thinks their arms are long enough to slap box, slap box?\\nLet me show you maintainin\\' this shit ain\\'t that hard, that hard\\nEverybody want the key and the secret to rap immortality like I have got\\n\\n[Verse 2]\\nWell, to be truthful the blueprint\\'s\\nSimply rage and youthful exuberance\\nEverybody loves to root for a nuisance\\nHit the Earth like an asteroid\\nDid nothing but shoot for the Moon since (Pew!)\\nMCs get taken to school with this music\\n\\'Cause I use it as a vehicle to \"bus the rhyme\"\\nNow I lead a new school full of students\\nMe? I\\'m a product of Rakim\\nLakim Shabazz, 2Pac, N.W.A, Cube, hey Doc, Ren\\nYella, Eazy, thank you, they got Slim\\nInspired enough to one day grow up, blow up and be in a position\\nTo meet Run–D.M.C., and induct them\\nInto the motherfuckin\\' Rock and Roll Hall of Fame\\nEven though I\\'ll walk in the church and burst in a ball of flames\\nOnly Hall of Fame I\\'ll be inducted in is the alcohol of fame\\nOn the wall of shame\\nYou fags think it\\'s all a game, \\'til I walk a flock of flames\\nOff a plank and, tell me what in the fuck are you thinkin\\'?\\nLittle gay-lookin\\' boy\\nSo gay I can barely say it with a straight face, lookin\\' boy (Ha-ha!)\\nYou\\'re witnessin\\' a mass-occur\\nLike you\\'re watching a church gathering take place, lookin\\' boy\\n\"Oy vey, that boy\\'s gay!\"—that\\'s all they say, lookin\\' boy\\nYou get a thumbs up, pat on the back\\nAnd a \"way to go\" from your label every day, lookin\\' boy\\nHey, lookin\\' boy! What you say, lookin\\' boy?\\nI get a \"hell yeah\" from Dre, lookin\\' boy\\nI\\'ma work for everything I have, never asked nobody for shit\\nGet outta my face, lookin\\' boy!\\nBasically, boy, you\\'re never gonna be capable\\nOf keepin\\' up with the same pace, lookin\\' boy, \\'cause—\\n\\n\\n[Chorus]\\nI\\'m beginnin\\' to feel like a Rap God, Rap God\\nAll my people from the front to the back nod, back nod\\nThe way I\\'m racin\\' around the track, call me NASCAR, NASCAR\\nDale Earnhardt of the trailer park, the White Trash God\\nKneel before General Zod\\nThis planet\\'s Krypton—no, Asgard, Asgard\\n\\n[Verse 3]\\nSo you\\'ll be Thor and I\\'ll be Odin\\nYou rodent, I\\'m omnipotent\\nLet off, then I\\'m reloadin\\'\\nImmediately with these bombs I\\'m totin\\'\\nAnd I should not be woken\\nI\\'m the walkin\\' dead, but I\\'m just a talkin\\' head, a zombie floatin\\'\\nBut I got your mom deep-throatin\\'\\nI\\'m out my Ramen Noodle\\nWe have nothin\\' in common, poodle\\nI\\'m a Doberman, pinch yourself in the arm and pay homage, pupil\\nIt\\'s me, my honesty\\'s brutal\\nBut it\\'s honestly futile if I don\\'t utilize what I do though\\nFor good at least once in a while\\nSo I wanna make sure somewhere in this chicken scratch I scribble and doodle enough rhymes\\nTo maybe try to help get some people through tough times\\nBut I gotta keep a few punchlines\\nJust in case \\'cause even you unsigned\\nRappers are hungry lookin\\' at me like it\\'s lunchtime\\nI know there was a time where once I\\nWas king of the underground\\nBut I still rap like I\\'m on my Pharoahe Monch grind\\nSo I crunch rhymes, but sometimes when you combine\\nAppeal with the skin color of mine\\nYou get too big and here they come tryin\\'\\nTo censor you like that one line\\nI said on \"I\\'m Back\" from The Mathers LP 1 when I\\nTried to say I\\'ll take seven kids from Columbine\\nPut \\'em all in a line, add an AK-47, a revolver and a 9\\nSee if I get away with it now that I ain\\'t as big as I was, but I\\'m\\nMorphin\\' into an immortal, comin\\' through the portal\\nYou\\'re stuck in a time warp from 2004 though\\nAnd I don\\'t know what the fuck that you rhyme for\\nYou\\'re pointless as Rapunzel with fuckin\\' cornrows\\nYou write normal? Fuck being normal!\\nAnd I just bought a new raygun from the future\\nJust to come and shoot ya, like when Fabolous made Ray J mad\\n\\'Cause Fab said he looked like a fag at Mayweather\\'s pad\\nSingin\\' to a man while he played piano\\nMan, oh man, that was a 24/7 special on the cable channel\\nSo Ray J went straight to the radio station\\nThe very next day, \"Hey Fab, I\\'ma kill you!\"\\nLyrics comin\\' at you at supersonic speed (J.J. Fad)\\nUh, summa-lumma, dooma-lumma, you assumin\\' I\\'m a human\\nWhat I gotta do to get it through to you? I\\'m superhuman\\nInnovative and I\\'m made of rubber so that anything you say is ricochetin\\' off of me and it\\'ll glue to you and\\nI\\'m devastating, more than ever demonstrating\\nHow to give a motherfuckin\\' audience a feeling like it\\'s levitating\\nNever fading, and I know the haters are forever waiting\\nFor the day that they can say I fell off, they\\'ll be celebrating\\n\\'Cause I know the way to get \\'em motivated\\nI make elevating music, you make elevator music\\n\"Oh, he\\'s too mainstream.\"\\nWell, that\\'s what they do when they get jealous, they confuse it\\n\"It\\'s not hip-hop, it\\'s pop,\"—\\'cause I found a hella way to fuse it\\nWith rock, shock rap with Doc\\nThrow on \"Lose Yourself\" and make \\'em lose it\\n\"I don\\'t know how to make songs like that\\nI don\\'t know what words to use.\"\\nLet me know when it occurs to you\\nWhile I\\'m rippin\\' any one of these verses that versus you\\nIt\\'s curtains, I\\'m inadvertently hurtin\\' you\\nHow many verses I gotta murder to\\nProve that if you were half as nice, your songs you could sacrifice virgins too?!\\nUgh, school flunky, pill junkie\\nBut look at the accolades these skills brung me\\nFull of myself, but still hungry\\nI bully myself \\'cause I make me do what I put my mind to\\nAnd I\\'m a million leagues above you\\nIll when I speak in tongues, but it\\'s still tongue-in-cheek, fuck you\\nI\\'m drunk, so, Satan, take the fucking wheel\\nI\\'ma sleep in the front seat\\nBumpin\\' Heavy D and the Boyz, still \"Chunky but Funky\"\\nBut in my head there\\'s something I can feel tugging and struggling\\nAngels fight with devils and here\\'s what they want from me\\nThey\\'re askin\\' me to eliminate some of the women hate\\nBut if you take into consideration the bitter hatred\\nI have, then you may be a little patient\\nAnd more sympathetic to the situation\\nAnd understand the discrimination\\nBut fuck it, life\\'s handin\\' you lemons? Make lemonade then!\\nBut if I can\\'t batter the women\\nHow the fuck am I supposed to bake \\'em a cake then?\\nDon\\'t mistake him for Satan\\nIt\\'s a fatal mistake if you think I need to be overseas and take a vacation\\nTo trip a broad, and make her fall on her face and\\nDon\\'t be a retard—be a king? Think not\\nWhy be a king when you can be a god?'"
      ]
     },
     "execution_count": 115,
     "metadata": {},
     "output_type": "execute_result"
    }
   ],
   "source": [
    "artist_dict['songs'][0]['lyrics']"
   ]
  },
  {
   "cell_type": "code",
   "execution_count": 156,
   "id": "266b65af-9c54-4773-b3ca-3455cdb9b5c2",
   "metadata": {},
   "outputs": [
    {
     "data": {
      "text/plain": [
       "'Lose Yourself by\\xa0Eminem'"
      ]
     },
     "execution_count": 156,
     "metadata": {},
     "output_type": "execute_result"
    }
   ],
   "source": [
    "artist_dict['songs'][1]['full_title']"
   ]
  },
  {
   "cell_type": "code",
   "execution_count": 142,
   "id": "58094266-c182-4c2d-a62b-10a71a74eb87",
   "metadata": {},
   "outputs": [
    {
     "data": {
      "text/plain": [
       "\"820 ContributorsTranslationsDeutschTürkçeFrançaisالعربيةРусский (Russian)SvenskaفارسیazərbaycanItalianoעברית (Hebrew)PolskiPortuguêsहिन्दी (Hindi)PortuguêsEspañolsrpskiУкраїнськаLose Yourself Lyrics“Lose Yourself” is the theme song from Eminem’s semi-biographical 2002 movie 8 Mile. Eminem is narrating the life of the film’s protagonist, Jimmy, up until the third verse, where Jimmy and Eminem’s journey… Read More\\xa0[Intro]\\nLook, if you had one shot or one opportunity\\nTo seize everything you ever wanted in one moment\\nWould you capture it or just let it slip?\\nYo\\n\\n[Verse 1]\\nHis palms are sweaty, knees weak, arms are heavy\\nThere's vomit on his sweater already, mom's spaghetti\\nHe's nervous, but on the surface, he looks calm and ready\\nTo drop bombs, but he keeps on forgetting\\nWhat he wrote down, the whole crowd goes so loud\\nHe opens his mouth, but the words won't come out\\nHe's chokin', how? Everybody's jokin' now\\nThe clock's run out, time's up, over, blaow\\nSnap back to reality, ope, there goes gravity\\nOpe, there goes Rabbit, he choked, he's so mad\\nBut he won't give up that easy, no, he won't have it\\nHe knows his whole back's to these ropes, it don't matter\\nHe's dope, he knows that, but he's broke, he's so stagnant\\nHe knows when he goes back to this mobile home, that's when it's\\nBack to the lab again, yo, this old rhapsody\\nBetter go capture this moment and hope it don't pass him\\n\\n[Chorus]\\nYou better lose yourself in the music\\nThe moment, you own it, you better never let it go (Go)\\nYou only get one shot, do not miss your chance to blow\\nThis opportunity comes once in a lifetime, yo\\nYou better lose yourself in the music\\nThe moment, you own it, you better never let it go (Go)\\nYou only get one shot, do not miss your chance to blow\\nThis opportunity comes once in a lifetime, yo\\nYou better\\n\\n\\n[Verse 2]\\nHis soul's escaping through this hole that is gaping\\nThis world is mine for the taking, make me king\\nAs we move toward a new world order\\nA normal life is boring, but superstardom's\\nClose to post-mortem, it only grows harder\\nHomie grows hotter, he blows, it's all over\\nThese hoes is all on him, coast-to-coast shows\\nHe's known as the Globetrotter, lonely roads\\nGod only knows he's grown farther from home, he's no father\\nHe goes home and barely knows his own daughter\\nBut hold your nose 'cause here goes the cold water\\nThese hoes don't want him no mo', he's cold product\\nThey moved on to the next schmoe who flows\\nHe nose-dove and sold nada, and so the soap opera\\nIs told, it unfolds, I suppose it's old, partner\\nBut the beat goes on, da-da-dom, da-dom, dah-dah-dah-dah\\n\\n[Chorus]\\nYou better lose yourself in the music\\nThe moment, you own it, you better never let it go (Go)\\nYou only get one shot, do not miss your chance to blow\\nThis opportunity comes once in a lifetime, yo\\nYou better lose yourself in the music\\nThe moment, you own it, you better never let it go (Go)\\nYou only get one shot, do not miss your chance to blow\\nThis opportunity comes once in a lifetime, yo\\nYou better\\n\\n\\n[Verse 3]\\nNo more games, I'ma change what you call rage\\nTear this motherfuckin' roof off like two dogs caged\\nI was playin' in the beginning, the mood all changed\\nI've been chewed up and spit out and booed off stage\\nBut I kept rhymin' and stepped right in the next cypher\\nBest believe somebody's payin' the Pied Piper\\nAll the pain inside amplified by the\\nFact that I can't get by with my nine-to-\\nFive and I can't provide the right type of life for my family\\n'Cause, man, these goddamn food stamps don't buy diapers\\nAnd there's no movie, there's no Mekhi Phifer, this is my life\\nAnd these times are so hard, and it's gettin' even harder\\nTryna feed and water my seed, plus teeter-totter\\nCaught up between bein' a father and a prima donna\\nBaby-mama drama, screamin' on her, too much for me to wanna\\nStay in one spot, another day of monotony's gotten me\\nTo the point I'm like a snail, I've got\\nTo formulate a plot or end up in jail or shot\\nSuccess is my only motherfuckin' option, failure's not\\nMom, I love you, but this trailer's got\\nTo go, I cannot grow old in Salem's Lot\\nSo here I go, it's my shot, feet, fail me not\\nThis may be the only opportunity that I got\\n\\n[Chorus]\\nYou better lose yourself in the music\\nThe moment, you own it, you better never let it go (Go)\\nYou only get one shot, do not miss your chance to blow\\nThis opportunity comes once in a lifetime, yo\\nYou better lose yourself in the music\\nThe moment, you own it, you better never let it go (Go)\\nYou only get one shot, do not miss your chance to blow\\nThis opportunity comes once in a lifetime, yo\\nYou better\\n\\n\\n[Outro]\\nYou can do anything you set your mind to, man\""
      ]
     },
     "execution_count": 142,
     "metadata": {},
     "output_type": "execute_result"
    }
   ],
   "source": [
    "artist_dict['songs'][1]['lyrics']"
   ]
  },
  {
   "cell_type": "code",
   "execution_count": null,
   "id": "c4e464b8-606c-4259-9329-75c15648d141",
   "metadata": {},
   "outputs": [],
   "source": []
  },
  {
   "cell_type": "code",
   "execution_count": null,
   "id": "87103e90-a5d3-4314-a302-f7ffd286de9b",
   "metadata": {},
   "outputs": [],
   "source": []
  },
  {
   "cell_type": "code",
   "execution_count": null,
   "id": "96575c47-0ec7-489b-9b09-e8d032a81704",
   "metadata": {},
   "outputs": [],
   "source": []
  },
  {
   "cell_type": "code",
   "execution_count": null,
   "id": "90b4b7ae-2cf4-47de-8dbe-5cb48acd065c",
   "metadata": {},
   "outputs": [],
   "source": []
  },
  {
   "cell_type": "code",
   "execution_count": null,
   "id": "5f1eee61-1c5d-4a49-8b14-b3b36e597432",
   "metadata": {},
   "outputs": [],
   "source": []
  },
  {
   "cell_type": "code",
   "execution_count": 145,
   "id": "1d79fbc5-d368-46fb-bfd2-f5d0286cff38",
   "metadata": {},
   "outputs": [],
   "source": [
    "file_name = 'rapper_names.txt'\n",
    "with open(file_name, \"r\") as f:\n",
    "    lines = f.readlines()\n",
    "\n",
    "rappers = [line.strip() for line in lines]\n"
   ]
  },
  {
   "cell_type": "code",
   "execution_count": 148,
   "id": "25655325-33c9-421c-b16c-62e12d23dd59",
   "metadata": {},
   "outputs": [
    {
     "name": "stdout",
     "output_type": "stream",
     "text": [
      "150\n",
      "The Notorious B.I.G.\n"
     ]
    }
   ],
   "source": [
    "print(len(rappers))\n",
    "print(rappers[0])"
   ]
  },
  {
   "cell_type": "code",
   "execution_count": 149,
   "id": "bf356106-64b8-4199-9311-c5d5f87eb705",
   "metadata": {},
   "outputs": [
    {
     "name": "stdout",
     "output_type": "stream",
     "text": [
      "Searching for songs by The Notorious B.I.G....\n",
      "\n"
     ]
    },
    {
     "name": "stderr",
     "output_type": "stream",
     "text": [
      "/Users/shui/dp/lyrics/.lyrics_env/lib/python3.13/site-packages/lyricsgenius/genius.py:589: FutureWarning: The constructor signature will change in a future version. It will change to Song(lyrics, body) instead of Song(client, json_dict, lyrics).\n",
      "  song = Song(self, song_info, lyrics)\n"
     ]
    },
    {
     "name": "stdout",
     "output_type": "stream",
     "text": [
      "Song 1: \"Juicy\"\n",
      "Song 2: \"Big Poppa\"\n",
      "Song 3: \"Suicidal Thoughts\"\n",
      "Song 4: \"Hypnotize\"\n",
      "\n",
      "Reached user-specified song limit (4).\n",
      "Done. Found 4 songs.\n"
     ]
    }
   ],
   "source": [
    "big = genius.search_artist(rappers[0], max_songs=4)"
   ]
  },
  {
   "cell_type": "code",
   "execution_count": 152,
   "id": "e03684c8-dfc8-49f4-a4ce-53b3e9742872",
   "metadata": {},
   "outputs": [],
   "source": [
    "big_dict =big.to_dict()"
   ]
  },
  {
   "cell_type": "code",
   "execution_count": 154,
   "id": "d12524cc-fc45-4352-88d3-13957b0e35ce",
   "metadata": {},
   "outputs": [
    {
     "data": {
      "text/plain": [
       "'Juicy by\\xa0The\\xa0Notorious B.I.G.'"
      ]
     },
     "execution_count": 154,
     "metadata": {},
     "output_type": "execute_result"
    }
   ],
   "source": [
    "big_dict['songs'][0]['full_title']"
   ]
  },
  {
   "cell_type": "code",
   "execution_count": 153,
   "id": "e11e88ba-07e5-42ae-8e3e-bd23d85e5da6",
   "metadata": {},
   "outputs": [
    {
     "data": {
      "text/plain": [
       "'407 ContributorsTranslationsPortuguêsFrançaisРусский (Russian)Juicy Lyrics“Juicy” is the first single from Big’s debut album, Ready to Die, and is the track that established him as a titan.\\n\\nIt was one of the first mainstream rap songs about a rapper’s own rise to the top. But… Read More\\xa0[Intro: The Notorious B.I.G.]\\n(\"Fuck all you hoes!\" Get a grip, motherfucker!)\\nYeah, this album is dedicated\\nTo all the teachers that told me I\\'d never amount to nothin\\'\\nTo all the people that lived above the buildings that I was hustlin\\' in front of\\nCalled the police on me when I was just tryin\\' to make some money to feed my daughter (it\\'s all good)\\nAnd all the niggas in the struggle\\nYou know what I\\'m sayin\\'? It\\'s all good, baby baby\\n[Verse 1: The Notorious B.I.G.]\\nIt was all a dream, I used to read Word Up! magazine\\nSalt-n-Pepa and Heavy D up in the limousine\\nHangin\\' pictures on my wall\\nEvery Saturday Rap Attack, Mr. Magic, Marley Marl\\nI let my tape rock \\'til my tape popped\\nSmokin\\' weed in Bambú, sippin\\' on Private Stock\\nWay back, when I had the red and black lumberjack\\nWith the hat to match\\nRemember Rappin\\' Duke? Duh-ha, duh-ha\\nYou never thought that hip-hop would take it this far\\nNow I\\'m in the limelight \\'cause I rhyme tight\\nTime to get paid, blow up like the World Trade\\nBorn sinner, the opposite of a winner\\nRemember when I used to eat sardines for dinner\\nPeace to Ron G, Brucie B, Kid Capri\\nFunkmaster Flex, Lovebug Starski\\nI\\'m blowin\\' up like you thought I would\\nCall the crib, same number, same hood, it\\'s all good\\nAnd if you don\\'t know, now you know, nigga\\n\\n\\n[Chorus: Total & Puff Daddy]\\nYou know very well (Yeah)\\nWho you are (Money, hoes and clothes)\\nDon\\'t let \\'em hold you down (Bankrolls, yeah, haha)\\nReach for the stars (It\\'s all good)\\nYou had a goal (C\\'mon)\\nBut not that many (It\\'s all good)\\n\\'Cause you\\'re the only one\\nI\\'ll give you good and plenty (Check it)\\n\\n[Verse 2: The Notorious B.I.G.]\\nI made the change from a common thief\\nTo up close and personal with Robin Leach\\nAnd I\\'m far from cheap, I smoke skunk with my peeps all day\\nSpread love, it\\'s the Brooklyn way\\nThe Moët and Alizé keep me pissy, girls used to diss me\\nNow they write letters \\'cause they miss me\\nI never thought it could happen, this rapping stuff\\nI was too used to packing gats and stuff\\nNow honeys play me close like butter play toast\\nFrom the Mississippi down to the East Coast\\nCondos in Queens, indo for weeks\\nSold out seats to hear Biggie Smalls speak\\nLiving life without fear\\nPuttin\\' five karats in my baby girl ear\\nLunches, brunches, interviews by the pool\\nConsidered a fool \\'cause I dropped out of high school\\nStereotypes of a black male misunderstood\\nAnd it\\'s still all good\\nAnd if you don\\'t know, now you know, nigga\\n\\n\\n[Chorus: Total & Puff Daddy]\\nYou know very well (C\\'mon)\\nWho you are (Bankrolls)\\nDon\\'t let \\'em hold you down (Clothes)\\nReach for the stars (Mansions)\\nYou had a goal\\nBut not that many (It\\'s all good)\\n\\'Cause you\\'re the only one\\nI\\'ll give you good and plenty (\\'94)\\n\\n[Verse 3: The Notorious B.I.G.]\\nSuper Nintendo, Sega Genesis\\nWhen I was dead broke, man, I couldn\\'t picture this\\n50-inch screen, money-green leather sofa\\nGot two rides, a limousine with a chauffeur\\nPhone bill about two G\\'s flat\\nNo need to worry, my accountant handles that\\nAnd my whole crew is loungin\\'\\nCelebrating every day, no more public housin\\'\\nThinkin\\' back on my one-room shack\\nNow my mom pimps an Ac\\' with minks on her back\\nAnd she loves to show me off of course\\nSmiles every time my face is up in The Source\\nWe used to fuss when the landlord dissed us\\nNo heat, wonder why Christmas missed us\\nBirthdays was the worst days\\nNow we sip Champagne when we thirsty\\nUh, damn right I like the life I live\\n\\'Cause I went from negative to positive and it\\'s all (It\\'s all good, nigga)\\nAnd if you don\\'t know, now you know, nigga\\n\\n\\n[Chorus: Total, The Notorious B.I.G. & Puff Daddy]\\nYou know very well (Money)\\nWho you are (Hoes and clothes)\\nDon\\'t let \\'em hold you down (Bankrolls)\\nAnd if you don\\'t know, now you know, nigga\\nReach for the stars (That\\'s right)\\nYou had a goal (It\\'s all good)\\nBut not that many (All good)\\n\\'Cause you\\'re the only one (East coast, represent)\\nI\\'ll give you good and plenty (C\\'mon)\\nAnd if you don\\'t know, now you know, nigga\\n\\n[Post-Chorus: The Notorious B.I.G. & Puff Daddy]\\nRepresentin\\' B-Town in the house (Biggie Smalls)\\nJunior Mafia, mad flavor (Bad Boy)\\nUh, uh, yeah, aight (I see you, Cooch)\\n\\n[Chorus: Total]\\nYou know very well\\nWho you are\\nDon\\'t let \\'em hold you down\\nReach for the stars\\nYou had a goal\\nBut not that many\\n\\'Cause you\\'re the only one\\nI\\'ll give you good and plenty\\n\\n[Outro: Puff Daddy & Total]\\nBiggie Smalls, it\\'s all good, nigga\\nJunior Mafia, it\\'s all good, nigga\\nBad Boy, it\\'s all good, nigga\\nIt\\'s all good\\nThat\\'s right, \\'94\\nAnd on and on, and on and on\\nYou know very well\\nIt\\'s all good\\nWho you are\\nYeah\\nDon\\'t let \\'em hold you down\\nReach for the stars\\n[Produced by Pete Rock and Poke of Trackmasters]'"
      ]
     },
     "execution_count": 153,
     "metadata": {},
     "output_type": "execute_result"
    }
   ],
   "source": [
    "big_dict['songs'][0]['lyrics']"
   ]
  },
  {
   "cell_type": "code",
   "execution_count": 157,
   "id": "e25b9dc3-6366-4641-b2bb-82c0de52eb7d",
   "metadata": {},
   "outputs": [
    {
     "data": {
      "text/plain": [
       "'Big Poppa by\\xa0The\\xa0Notorious B.I.G.'"
      ]
     },
     "execution_count": 157,
     "metadata": {},
     "output_type": "execute_result"
    }
   ],
   "source": [
    "big_dict['songs'][1]['full_title']"
   ]
  },
  {
   "cell_type": "code",
   "execution_count": 158,
   "id": "a721b166-371a-4b53-b13d-daa3a7ea1a98",
   "metadata": {},
   "outputs": [
    {
     "data": {
      "text/plain": [
       "'236 ContributorsTranslationsTürkçePortuguêsMagyarBig Poppa Lyrics“Big Poppa” was released as the second single from Ready To Die following the commercial success of the album’s lead single “Juicy.” Both of Biggie’s first two singles topped Billboard’s Hot R&B/Hip-Hop chart… Read More\\xa0[Intro: The Notorious B.I.G. & Puff Daddy]\\nUh, uh, check it out (Yeah), uh\\nJunior M.A.F.I.A., uh (He-he)\\nUh (I like this) yeah, yeah\\nNine-fo\\' (Keep bangin\\')\\n\\n[Verse 1: The Notorious B.I.G. & Puff Daddy]\\nTo all the ladies in the place with style and grace\\nAllow me to lace these lyrical douches in your bushes (Uh)\\nWho rock grooves and make moves with all the mamis?\\nThe back of the club, sippin\\' Moët is where you\\'ll find me (What?)\\nThe back of the club, mackin\\' hoes, my crew\\'s behind me (Uh)\\nMad question askin\\', blunt passin\\'\\nMusic blastin\\', but I just can\\'t quit\\nBecause one of these honeys Biggie got to creep with (That\\'s right)\\nSleep with, keep the ep a secret, why not? (Uh)\\nWhy blow up my spot \\'cause we both got hot?\\nNow check it: I got more mack than Craig, and in the bed\\nBelieve me, sweetie, I got enough to feed the needy (Come on)\\nNo need to be greedy, I got mad friends with Benzes\\nC-notes by the layers, true fuckin\\' players (Uh)\\nJump in the Rover and come over, tell your friends jump in the GS3\\nI got the chronic by the tree cuz (Let\\'s go)\\n\\n[Chorus: The Notorious B.I.G. & Puff Daddy]\\nI love it when you call me Big Poppa\\nThrow your hands in the air if you\\'s a true player\\nI love it when you call me Big Poppa\\nTo the honeys gettin\\' money, playin\\' niggas like dummies\\nI love it when you call me Big Poppa\\nYou got a gun up in your waist, please don\\'t shoot up the place (Why?)\\n\\'Cause I see some ladies tonight that should be havin\\' my baby (Uh), baby (Uh)\\n\\n\\n[Verse 2: The Notorious B.I.G. & Puff Daddy]\\nStraight up, honey, really I\\'m askin\\'\\nMost of these niggas think they be mackin\\', but they be actin\\'\\nWho they attractin\\' with that line (What?), \"What\\'s your name? What\\'s your sign?\"\\nSoon as he buy that wine, I just creep up from behind (That\\'s right)\\nAnd ask you what your interests are, who you be with\\nThings that make you smile, what numbers to dial\\nYou gon\\' be here for a while? I\\'m gon\\' go call my crew, you go call your crew\\nWe can rendezvous at the bar around 2 (Come on)\\nPlans to leave, throw the keys to Little Cease (Uh-huh)\\nPull the truck up front, and roll up the next blunt\\nSo we can steam on the way to the telly, go fill my belly (G)\\nA T-bone steak, cheese eggs and Welch\\'s grape\\nConversate for a few, ‘cause in a few we gon\\' do\\nWhat we came to do, ain\\'t that right, boo? (True)\\nForget the telly—we just go to the crib\\nAnd watch a movie in the jacuzzi, smoke Ls while you do me\\n\\n[Chorus: The Notorious B.I.G. & Puff Daddy]\\nI love it when you call me Big Poppa\\nThrow your hands in the air if you\\'s a true player (Come on, yeah)\\nI love it when you call me Big Poppa\\nTo the honeys gettin\\' money, playin\\' niggas like dummies (Uh)\\nI love it when you call me Big Poppa\\nYou got a gun up in your waist, please don\\'t shoot up the place (Why?)\\n\\'Cause I see some ladies tonight that should be havin\\' my baby, baby (Uh)\\n\\n\\n[Verse 3: The Notorious B.I.G. & Puff Daddy]\\n(How you livin\\', Biggie Smalls?) In mansion and Benzes\\nGivin\\' ends to my friends, and it feels stupendous\\nTremendous cream: fuck a dollar and a dream (Heh)\\nStill tote gats, strapped with infrared beams (That\\'s right) (What?)\\nChoppin\\' Os (Uh-huh), smokin\\' la in Optimos\\nMoney, hoes and clothes: all a nigga knows (All a nigga knows)\\nA foolish pleasure? Whatever\\nI had to find the buried treasure (For what?), so grams I had to measure\\nHowever, livin\\' better now, Coogi sweater now\\nDrop top BMs, I\\'m the man, girlfriend\\n\\n[Interlude: Puff Daddy]\\nYeah, honey, check it\\nTell your friends to get with my friends\\nAnd we can be friends\\nShit, we can do this every weekend (That\\'s right), alright?\\nIs that aight wit\\' you?\\nYeah, keep bangin\\'\\n\\n[Chorus: The Notorious B.I.G. & Puff Daddy]\\nI love it when you call me Big Poppa\\nThrow your hands in the air if you\\'s a true player\\nI love it when you call me Big Poppa\\nTo the honeys gettin\\' money, playin\\' niggas like dummies (Uh)\\nI love it when you call me Big Poppa\\nYou got a gun up in your waist, please don\\'t shoot up the place (Why?)\\n\\'Cause I see some ladies tonight that should be havin\\' my baby, baby (Uh)\\n\\n\\n[Outro: The Notorious B.I.G.]\\nCheck it out\\nNine-fo\\' shit for that ass, uh\\nPuff Daddy, Biggie Smalls, Junior M.A.F.I.A.\\nRepresent, baby, baby, uh'"
      ]
     },
     "execution_count": 158,
     "metadata": {},
     "output_type": "execute_result"
    }
   ],
   "source": [
    "big_dict['songs'][1]['lyrics']"
   ]
  },
  {
   "cell_type": "code",
   "execution_count": 159,
   "id": "7a3f2a86-c4bb-4878-b253-efb4d969f647",
   "metadata": {},
   "outputs": [
    {
     "data": {
      "text/plain": [
       "dict_keys(['annotation_count', 'api_path', 'artist_names', 'full_title', 'header_image_thumbnail_url', 'header_image_url', 'id', 'lyrics_owner_id', 'lyrics_state', 'path', 'primary_artist_names', 'pyongs_count', 'relationships_index_url', 'release_date_components', 'release_date_for_display', 'release_date_with_abbreviated_month_for_display', 'song_art_image_thumbnail_url', 'song_art_image_url', 'stats', 'title', 'title_with_featured', 'url', 'featured_artists', 'primary_artist', 'primary_artists', 'apple_music_id', 'apple_music_player_url', 'description', 'embed_content', 'featured_video', 'language', 'recording_location', 'release_date', 'current_user_metadata', 'song_art_primary_color', 'song_art_secondary_color', 'song_art_text_color', 'album', 'custom_performances', 'description_annotation', 'lyrics_marked_complete_by', 'lyrics_marked_staff_approved_by', 'media', 'producer_artists', 'song_relationships', 'translation_songs', 'verified_annotations_by', 'verified_contributors', 'verified_lyrics_by', 'writer_artists', 'artist', 'lyrics'])"
      ]
     },
     "execution_count": 159,
     "metadata": {},
     "output_type": "execute_result"
    }
   ],
   "source": [
    "big_dict['songs'][1].keys()"
   ]
  },
  {
   "cell_type": "code",
   "execution_count": 160,
   "id": "c81ac67b-ee66-4ce2-bfac-68427ea50606",
   "metadata": {},
   "outputs": [
    {
     "data": {
      "text/plain": [
       "{'plain': \"“Big Poppa” was released as the second single from Ready To Die following the commercial success of the album’s lead single “Juicy.” Both of Biggie’s first two singles topped Billboard’s Hot R&B/Hip-Hop chart but “Big Poppa” became Biggie’s first Top 10 pop hit.\\n\\nThe song marked a major stylistic change from the hardcore, aggressive style of Biggie’s early work. The music utilized a smoother West Coast G-funk aesthetic, while Big embraced a new ladies' man persona. Producer Easy Mo Bee remarked: “all of a sudden his voice calmed down. That became his new vocal style.”\\n\\n“Big Poppa” peaked at #6 on Billboard’s Hot 100 chart in March 1995. It was nominated for “Best Rap Solo Performance” and “Best Rap Song of the Year” at the 1996 Grammy Awards, and also went on to win at the Billboard Awards.\\n\\nThe title is based on one of The Notorious B.I.G.’s many nicknames. The line “I love it when you call me Big Poppa” is sampled from his verse on the remix of Supercat’s song “Dolly My Baby,” released in 1993. The song also features a prominent sample from the The Isley Brothers‘ 1983 slow jam “Between The Sheets.”\\n\\nIn a Ready To Die retrospective published by XXL, producer Nashiem Myrick revealed that the “Big Poppa” beat was originally given to Mr. Cheeks of the Lost Boyz but Puff Daddy wanted the track and they had to trade it for an Easy Mo Bee beat that ended up being used for the group’s 1995 hit single “Jeeps, Lex Coups, Bimaz and Benz.” Chucky Thompson also said in the XXL piece that the “West Coast” moog sound was inspired by the music of Dr. Dre, Ice Cube and Snoop Doggy Dogg, while Matty C, the writer of Biggie’s “Unsigned Hype” column in The Source magazine, claimed rhyming over the “Between the Sheets” sample was Biggie’s idea after he heard the sample used on A Tribe Called Quest’s “Bonita Applebum (Hootie Mix)” released in 1990.\"}"
      ]
     },
     "execution_count": 160,
     "metadata": {},
     "output_type": "execute_result"
    }
   ],
   "source": [
    "big_dict['songs'][1]['description']"
   ]
  },
  {
   "cell_type": "code",
   "execution_count": 162,
   "id": "359d0efe-1009-40f1-a6a1-37c50b4207a3",
   "metadata": {},
   "outputs": [
    {
     "data": {
      "text/plain": [
       "'The Hit Factory (New York City)'"
      ]
     },
     "execution_count": 162,
     "metadata": {},
     "output_type": "execute_result"
    }
   ],
   "source": [
    "big_dict['songs'][1]['recording_location']"
   ]
  },
  {
   "cell_type": "code",
   "execution_count": 167,
   "id": "af4b1d68-5478-4009-84dd-6a79c76028fb",
   "metadata": {},
   "outputs": [
    {
     "data": {
      "text/plain": [
       "[{'api_path': '/artists/22',\n",
       "  'header_image_url': 'https://images.genius.com/1b66a66f14427bb384ff3c8ccecc05f7.1000x333x1.jpg',\n",
       "  'id': 22,\n",
       "  'image_url': 'https://images.genius.com/a1028eceafa83e5118ed88c3b0d2b854.500x500x1.jpg',\n",
       "  'is_meme_verified': False,\n",
       "  'is_verified': False,\n",
       "  'name': 'The Notorious B.I.G.',\n",
       "  'url': 'https://genius.com/artists/The-notorious-big'},\n",
       " {'api_path': '/artists/8400',\n",
       "  'header_image_url': 'https://images.genius.com/76f0a74ad8df6f8fc6efe86cd5425778.1000x563x1.jpg',\n",
       "  'id': 8400,\n",
       "  'image_url': 'https://images.genius.com/cb26d2c239b3692a6ec7f6de1db57180.597x597x1.jpg',\n",
       "  'is_meme_verified': False,\n",
       "  'is_verified': False,\n",
       "  'name': 'The Isley Brothers',\n",
       "  'url': 'https://genius.com/artists/The-isley-brothers'},\n",
       " {'api_path': '/artists/2668',\n",
       "  'header_image_url': 'https://images.genius.com/a30804fadbfb3170f3a28b864e10c93d.1000x1000x1.jpg',\n",
       "  'id': 2668,\n",
       "  'image_url': 'https://images.genius.com/a30804fadbfb3170f3a28b864e10c93d.1000x1000x1.jpg',\n",
       "  'is_meme_verified': True,\n",
       "  'is_verified': True,\n",
       "  'name': 'Ronald Isley',\n",
       "  'url': 'https://genius.com/artists/Ronald-isley',\n",
       "  'iq': 864},\n",
       " {'api_path': '/artists/649699',\n",
       "  'header_image_url': 'https://images.genius.com/c908c0ad7704a186061e446c0b49aace.611x266x1.jpg',\n",
       "  'id': 649699,\n",
       "  'image_url': 'https://images.genius.com/be87c91ebcabcc29f916f2b41d6059a6.380x380x1.jpg',\n",
       "  'is_meme_verified': False,\n",
       "  'is_verified': False,\n",
       "  'name': 'Ernie Isley',\n",
       "  'url': 'https://genius.com/artists/Ernie-isley'},\n",
       " {'api_path': '/artists/398701',\n",
       "  'header_image_url': 'https://images.genius.com/c39d7da0d981e6b341264dd30a633fc2.300x300x1.jpg',\n",
       "  'id': 398701,\n",
       "  'image_url': 'https://images.genius.com/c39d7da0d981e6b341264dd30a633fc2.300x300x1.jpg',\n",
       "  'is_meme_verified': False,\n",
       "  'is_verified': False,\n",
       "  'name': 'Marvin Isley',\n",
       "  'url': 'https://genius.com/artists/Marvin-isley'},\n",
       " {'api_path': '/artists/398699',\n",
       "  'header_image_url': 'https://images.genius.com/80d7ea955e11adbc1160d062386582ec.300x300x1.jpg',\n",
       "  'id': 398699,\n",
       "  'image_url': 'https://images.genius.com/80d7ea955e11adbc1160d062386582ec.300x300x1.jpg',\n",
       "  'is_meme_verified': False,\n",
       "  'is_verified': False,\n",
       "  'name': 'O’Kelly Isley',\n",
       "  'url': 'https://genius.com/artists/Okelly-isley'},\n",
       " {'api_path': '/artists/49856',\n",
       "  'header_image_url': 'https://images.genius.com/768afd974ca71400d57f61434d260d63.289x289x1.jpg',\n",
       "  'id': 49856,\n",
       "  'image_url': 'https://images.genius.com/768afd974ca71400d57f61434d260d63.289x289x1.jpg',\n",
       "  'is_meme_verified': False,\n",
       "  'is_verified': False,\n",
       "  'name': 'Rudolph Isley',\n",
       "  'url': 'https://genius.com/artists/Rudolph-isley'},\n",
       " {'api_path': '/artists/49857',\n",
       "  'header_image_url': 'https://images.genius.com/1a95c3f086a4f242432f4d519dd23d9b.1000x1000x1.jpg',\n",
       "  'id': 49857,\n",
       "  'image_url': 'https://images.genius.com/1a95c3f086a4f242432f4d519dd23d9b.1000x1000x1.jpg',\n",
       "  'is_meme_verified': False,\n",
       "  'is_verified': False,\n",
       "  'name': 'Chris Jasper',\n",
       "  'url': 'https://genius.com/artists/Chris-jasper'}]"
      ]
     },
     "execution_count": 167,
     "metadata": {},
     "output_type": "execute_result"
    }
   ],
   "source": [
    "big_dict['songs'][1]['writer_artists']"
   ]
  },
  {
   "cell_type": "code",
   "execution_count": null,
   "id": "7ae59ec5-12d1-4ae3-857b-d88b21d1509e",
   "metadata": {},
   "outputs": [],
   "source": []
  },
  {
   "cell_type": "code",
   "execution_count": null,
   "id": "eded77c7-f3f3-4368-85d3-bf6385131b6f",
   "metadata": {},
   "outputs": [],
   "source": []
  },
  {
   "cell_type": "code",
   "execution_count": null,
   "id": "ffcffb9d-c34e-4367-8724-d9fb428892b1",
   "metadata": {},
   "outputs": [],
   "source": []
  },
  {
   "cell_type": "code",
   "execution_count": null,
   "id": "927f5f68-985b-4e0b-8988-9686bc8423e5",
   "metadata": {},
   "outputs": [],
   "source": []
  },
  {
   "cell_type": "code",
   "execution_count": 205,
   "id": "ee9caef0-715f-458d-b672-b06a2cbbce53",
   "metadata": {},
   "outputs": [],
   "source": [
    "from lyricsgenius import Genius\n",
    "import os\n",
    "import json\n",
    "\n",
    "genius_token = 'FY4kyOOhrhrXXmT5lKIn9E10CLMKl5PJkAeWiDFJGcL2mW2PKQPSL8T_KX77orv_'\n",
    "genius = Genius(genius_token,  timeout=99, sleep_time=0.5)"
   ]
  },
  {
   "cell_type": "code",
   "execution_count": 219,
   "id": "dfb98f4a-dd8e-4597-ba1e-1fe088353bb0",
   "metadata": {},
   "outputs": [],
   "source": [
    "file_name = 'data/rapper_names/rapper_names.txt'\n",
    "with open(file_name, \"r\") as f:\n",
    "    lines = f.readlines()\n",
    "\n",
    "rappers = [line.strip() for line in lines]\n"
   ]
  },
  {
   "cell_type": "code",
   "execution_count": 218,
   "id": "c69c1f8a-f95a-4d47-8666-110a3ef1236d",
   "metadata": {},
   "outputs": [
    {
     "name": "stdout",
     "output_type": "stream",
     "text": [
      "Searching for songs by The Notorious B.I.G....\n",
      "\n",
      "Song 1: \"Juicy\"\n",
      "Song 2: \"Big Poppa\"\n",
      "Song 3: \"Suicidal Thoughts\"\n",
      "\n",
      "Reached user-specified song limit (3).\n",
      "Done. Found 3 songs.\n",
      "Saved to data/lyrics_json/lyrics_The Notorious B.I.G..json\n",
      "Searching for songs by Kendrick Lamar...\n",
      "\n",
      "Song 1: \"Not Like Us\"\n",
      "Song 2: \"HUMBLE.\"\n",
      "Song 3: \"euphoria\"\n",
      "\n",
      "Reached user-specified song limit (3).\n",
      "Done. Found 3 songs.\n",
      "Saved to data/lyrics_json/lyrics_Kendrick Lamar.json\n",
      "Searching for songs by Eminem...\n",
      "\n",
      "Song 1: \"Rap God\"\n",
      "Song 2: \"Lose Yourself\"\n",
      "Song 3: \"Without Me\"\n",
      "\n",
      "Reached user-specified song limit (3).\n",
      "Done. Found 3 songs.\n",
      "Saved to data/lyrics_json/lyrics_Eminem.json\n"
     ]
    }
   ],
   "source": [
    "for rapper in rappers[0:3]:\n",
    "    rapper_result = genius.search_artist(rapper, max_songs=3)\n",
    "    save_dir = 'data/lyrics_json/'\n",
    "    os.makedirs(save_dir, exist_ok=True)\n",
    "    filename = os.path.join(save_dir, f'lyrics_{rapper}.json')\n",
    "    rapper_json = rapper_result.to_json()\n",
    "    with open(filename, \"w\") as f:\n",
    "        json.dump(rapper_json, f, indent=2)\n",
    "    \n",
    "    print(f\"Saved to {filename}\")"
   ]
  },
  {
   "cell_type": "code",
   "execution_count": 224,
   "id": "c256b8c1-63bc-45ef-a7cf-ff5dd4558b94",
   "metadata": {},
   "outputs": [
    {
     "data": {
      "text/plain": [
       "['Ice Cube',\n",
       " 'André 3000',\n",
       " 'Snoop Dogg',\n",
       " 'JAY-Z',\n",
       " 'Kanye West',\n",
       " 'Lil Wayne',\n",
       " 'J. Cole',\n",
       " 'Rakim',\n",
       " '50 Cent',\n",
       " 'Eazy-E',\n",
       " 'Method Man',\n",
       " 'DMX',\n",
       " 'Big L',\n",
       " 'Ghostface Killah',\n",
       " 'Redman',\n",
       " 'RZA',\n",
       " 'MF Doom',\n",
       " 'A$AP Rocky',\n",
       " 'Drake',\n",
       " 'Big Pun',\n",
       " 'Raekwon',\n",
       " 'Scarface',\n",
       " 'Busta Rhymes',\n",
       " 'LL Cool J',\n",
       " 'Lauryn Hill',\n",
       " \"Ol' Dirty Bastard\",\n",
       " 'Mos Def',\n",
       " 'Travis Scott',\n",
       " 'Nate Dogg',\n",
       " 'Childish Gambino',\n",
       " 'Tyler, the Creator',\n",
       " 'GZA',\n",
       " 'Q-Tip',\n",
       " 'Future',\n",
       " 'Xzibit',\n",
       " 'Kid Cudi',\n",
       " 'Logic',\n",
       " 'Chance the Rapper',\n",
       " 'Joey Bada$$',\n",
       " 'Wiz Khalifa',\n",
       " 'Slick Rick',\n",
       " 'Juice Wrld',\n",
       " 'Pusha T',\n",
       " 'Denzel Curry',\n",
       " '21 Savage',\n",
       " 'The Game',\n",
       " 'Mac Miller',\n",
       " 'KRS-One',\n",
       " 'Run–DMC',\n",
       " 'Meek Mill',\n",
       " 'Big Sean',\n",
       " 'Big Daddy Kane',\n",
       " 'Tech N9ne',\n",
       " 'Missy Elliott',\n",
       " 'XXXTentacion',\n",
       " 'Common',\n",
       " 'Schoolboy Q',\n",
       " 'Nelly',\n",
       " '2 Chainz',\n",
       " 'Ludacris',\n",
       " 'Warren G',\n",
       " 'Joyner Lucas',\n",
       " 'Royce da 5\\'9\"',\n",
       " 'Ice-T',\n",
       " 'Lil Uzi Vert',\n",
       " 'Gucci Mane',\n",
       " 'Kurupt',\n",
       " 'DMC',\n",
       " 'Big Boi',\n",
       " 'Grandmaster Flash',\n",
       " 'Twista',\n",
       " 'MC Ren',\n",
       " 'J.I.D',\n",
       " 'E-40',\n",
       " 'Chief Keef',\n",
       " 'Too $hort',\n",
       " 'T.I.',\n",
       " 'Proof',\n",
       " 'Quavo',\n",
       " 'Coolio',\n",
       " 'Talib Kweli',\n",
       " 'Prodigy',\n",
       " 'Young Thug',\n",
       " 'T-Pain',\n",
       " 'Lil Baby',\n",
       " 'Ski Mask The Slump God',\n",
       " 'Black Thought',\n",
       " 'Rick Ross',\n",
       " 'A$AP Ferg',\n",
       " 'Hopsin',\n",
       " 'Offset',\n",
       " 'Will Smith',\n",
       " 'Lil Dicky',\n",
       " 'Lupe Fiasco',\n",
       " 'King Von',\n",
       " 'Freddie Gibbs',\n",
       " 'NF',\n",
       " 'Fat Joe',\n",
       " 'Chuck D',\n",
       " 'Post Malone',\n",
       " 'Jadakiss',\n",
       " 'Immortal Technique',\n",
       " 'G-Eazy',\n",
       " 'Krayzie Bone',\n",
       " 'Polo G',\n",
       " 'Inspectah Deck',\n",
       " 'Queen Latifah',\n",
       " 'Pharrell Williams',\n",
       " 'YG',\n",
       " 'Roddy Ricch',\n",
       " 'Kodak Black',\n",
       " 'Playboi Carti',\n",
       " 'Juicy J',\n",
       " 'DaBaby',\n",
       " 'Nicki Minaj',\n",
       " 'Afroman',\n",
       " 'Vince Staples',\n",
       " 'Heavy D',\n",
       " 'MC Hammer',\n",
       " 'The D.O.C.',\n",
       " 'Jimmy Spicer',\n",
       " 'Earl Sweatshirt',\n",
       " 'Guru',\n",
       " 'Fabolous',\n",
       " 'A Boogie wit da Hoodie',\n",
       " 'Jeezy',\n",
       " 'Benny the Butcher',\n",
       " 'NLE Choppa',\n",
       " 'Obie Trice',\n",
       " 'B.o.B',\n",
       " 'Anderson .Paak',\n",
       " 'AZ',\n",
       " 'Kool G Rap',\n",
       " 'Gunna',\n",
       " 'Wyclef Jean',\n",
       " 'MC Lyte',\n",
       " 'Biz Markie',\n",
       " 'Killer Mike',\n",
       " 'Master P',\n",
       " 'YoungBoy Never Broke Again',\n",
       " 'YNW Melly',\n",
       " 'Lil Jon',\n",
       " 'Rammellzee',\n",
       " 'DJ Quik']"
      ]
     },
     "execution_count": 224,
     "metadata": {},
     "output_type": "execute_result"
    }
   ],
   "source": [
    "rappers[6:]"
   ]
  },
  {
   "cell_type": "code",
   "execution_count": 221,
   "id": "93cf713a-8d74-4a74-8ce1-c6b0f984106b",
   "metadata": {},
   "outputs": [
    {
     "name": "stdout",
     "output_type": "stream",
     "text": [
      "['The Notorious B.I.G.', 'Kendrick Lamar', 'Eminem', 'Tupac', 'Nas', 'Dr. Dre', 'Ice Cube', 'André 3000', 'Snoop Dogg', 'JAY-Z', 'Kanye West', 'Lil Wayne', 'J. Cole', 'Rakim', '50 Cent', 'Eazy-E', 'Method Man', 'DMX', 'Big L', 'Ghostface Killah', 'Redman', 'RZA', 'MF Doom', 'A$AP Rocky', 'Drake', 'Big Pun', 'Raekwon', 'Scarface', 'Busta Rhymes', 'LL Cool J', 'Lauryn Hill', \"Ol' Dirty Bastard\", 'Mos Def', 'Travis Scott', 'Nate Dogg', 'Childish Gambino', 'Tyler, the Creator', 'GZA', 'Q-Tip', 'Future', 'Xzibit', 'Kid Cudi', 'Logic', 'Chance the Rapper', 'Joey Bada$$', 'Wiz Khalifa', 'Slick Rick', 'Juice Wrld', 'Pusha T', 'Denzel Curry', '21 Savage', 'The Game', 'Mac Miller', 'KRS-One', 'Run–DMC', 'Meek Mill', 'Big Sean', 'Big Daddy Kane', 'Tech N9ne', 'Missy Elliott', 'XXXTentacion', 'Common', 'Schoolboy Q', 'Nelly', '2 Chainz', 'Ludacris', 'Warren G', 'Joyner Lucas', 'Royce da 5\\'9\"', 'Ice-T', 'Lil Uzi Vert', 'Gucci Mane', 'Kurupt', 'DMC', 'Big Boi', 'Grandmaster Flash', 'Twista', 'MC Ren', 'J.I.D', 'E-40', 'Chief Keef', 'Too $hort', 'T.I.', 'Proof', 'Quavo', 'Coolio', 'Talib Kweli', 'Prodigy', 'Young Thug', 'T-Pain', 'Lil Baby', 'Ski Mask The Slump God', 'Black Thought', 'Rick Ross', 'A$AP Ferg', 'Hopsin', 'Offset', 'Will Smith', 'Lil Dicky', 'Lupe Fiasco', 'King Von', 'Freddie Gibbs', 'NF', 'Fat Joe', 'Chuck D', 'Post Malone', 'Jadakiss', 'Immortal Technique', 'G-Eazy', 'Krayzie Bone', 'Polo G', 'Inspectah Deck', 'Queen Latifah', 'Pharrell Williams', 'YG', 'Roddy Ricch', 'Kodak Black', 'Playboi Carti', 'Juicy J', 'DaBaby', 'Nicki Minaj', 'Afroman', 'Vince Staples', 'Heavy D', 'MC Hammer', 'The D.O.C.', 'Jimmy Spicer', 'Earl Sweatshirt', 'Guru', 'Fabolous', 'A Boogie wit da Hoodie', 'Jeezy', 'Benny the Butcher', 'NLE Choppa', 'Obie Trice', 'B.o.B', 'Anderson .Paak', 'AZ', 'Kool G Rap', 'Gunna', 'Wyclef Jean', 'MC Lyte', 'Biz Markie', 'Killer Mike', 'Master P', 'YoungBoy Never Broke Again', 'YNW Melly', 'Lil Jon', 'Rammellzee', 'DJ Quik']\n"
     ]
    }
   ],
   "source": [
    "print(rappers)"
   ]
  },
  {
   "cell_type": "code",
   "execution_count": 222,
   "id": "da194141-2102-42c3-837b-d278cac68178",
   "metadata": {},
   "outputs": [
    {
     "data": {
      "text/plain": [
       "150"
      ]
     },
     "execution_count": 222,
     "metadata": {},
     "output_type": "execute_result"
    }
   ],
   "source": [
    "len(rappers)"
   ]
  },
  {
   "cell_type": "code",
   "execution_count": null,
   "id": "03d52f8d-fa91-4b9c-91fb-d772f790060c",
   "metadata": {},
   "outputs": [],
   "source": []
  },
  {
   "cell_type": "code",
   "execution_count": null,
   "id": "3ebd8a48-ee25-4ea0-a2fb-4189fe8c72c0",
   "metadata": {},
   "outputs": [],
   "source": []
  },
  {
   "cell_type": "code",
   "execution_count": null,
   "id": "484d9de2-5026-4201-9cad-9c840552f2e0",
   "metadata": {},
   "outputs": [],
   "source": []
  },
  {
   "cell_type": "code",
   "execution_count": null,
   "id": "47d95151-25bf-496a-8d86-74d6a92a41c9",
   "metadata": {},
   "outputs": [],
   "source": []
  },
  {
   "cell_type": "code",
   "execution_count": null,
   "id": "a1f98614-7f80-4e04-a858-c2fec317dcfd",
   "metadata": {},
   "outputs": [],
   "source": []
  },
  {
   "cell_type": "code",
   "execution_count": null,
   "id": "9ccc5654-4c74-4bce-86b2-38e5811d05a5",
   "metadata": {},
   "outputs": [],
   "source": []
  }
 ],
 "metadata": {
  "kernelspec": {
   "display_name": "Python 3 (ipykernel)",
   "language": "python",
   "name": "python3"
  },
  "language_info": {
   "codemirror_mode": {
    "name": "ipython",
    "version": 3
   },
   "file_extension": ".py",
   "mimetype": "text/x-python",
   "name": "python",
   "nbconvert_exporter": "python",
   "pygments_lexer": "ipython3",
   "version": "3.13.3"
  }
 },
 "nbformat": 4,
 "nbformat_minor": 5
}
